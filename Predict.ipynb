{
 "cells": [
  {
   "cell_type": "markdown",
   "metadata": {},
   "source": [
    "# Predict and Visualize"
   ]
  },
  {
   "cell_type": "code",
   "execution_count": 5,
   "metadata": {},
   "outputs": [],
   "source": [
    "import json\n",
    "from tqdm import tqdm\n",
    "import numpy as np\n",
    "import os\n",
    "import argparse\n",
    "\n",
    "import torch\n",
    "from torch import nn, optim\n",
    "from torchvision import transforms as T\n",
    "import json\n",
    "\n",
    "from models import NTM\n",
    "from task_generator import CopyDataset, AssociativeDataset, SequentialMNIST"
   ]
  },
  {
   "cell_type": "markdown",
   "metadata": {},
   "source": [
    "## Task Data"
   ]
  },
  {
   "cell_type": "code",
   "execution_count": 3,
   "metadata": {},
   "outputs": [],
   "source": [
    "# ==== Load the Task Configuration files ====\n",
    "# Copy Task ===\n",
    "task_params = json.load(open('configs/copy.json'))\n",
    "task_params['min_seq_len'] = 60\n",
    "task_params['max_seq_len'] = 120\n",
    "\n",
    "# Associative Recall Task ===\n",
    "# task_params['min_item'] = 6\n",
    "# task_params['max_item'] = 9"
   ]
  },
  {
   "cell_type": "code",
   "execution_count": 4,
   "metadata": {},
   "outputs": [],
   "source": [
    "# ==== Create Dataset ====\n",
    "dataset = CopyDataset(task_params)"
   ]
  },
  {
   "cell_type": "markdown",
   "metadata": {},
   "source": [
    "## Model"
   ]
  },
  {
   "cell_type": "code",
   "execution_count": 5,
   "metadata": {},
   "outputs": [
    {
     "name": "stdout",
     "output_type": "stream",
     "text": [
      "NTM Using device: cpu\n"
     ]
    }
   ],
   "source": [
    "# ==== Create NTM ====\n",
    "ntm = NTM(input_dim=task_params['seq_width'] + 2,\n",
    "          output_dim=task_params['seq_width'],\n",
    "          ctrl_dim=task_params['controller_size'],\n",
    "          memory_units=task_params['memory_units'],\n",
    "          memory_unit_size=task_params['memory_unit_size'],\n",
    "          num_heads=task_params['num_heads'])"
   ]
  },
  {
   "cell_type": "code",
   "execution_count": 6,
   "metadata": {},
   "outputs": [
    {
     "data": {
      "text/plain": [
       "<All keys matched successfully>"
      ]
     },
     "execution_count": 6,
     "metadata": {},
     "output_type": "execute_result"
    }
   ],
   "source": [
    "# Load trained model weights\n",
    "ntm.load_state_dict(torch.load('model_copy.pt'))"
   ]
  },
  {
   "cell_type": "markdown",
   "metadata": {},
   "source": [
    "## Prediction Step"
   ]
  },
  {
   "cell_type": "code",
   "execution_count": 9,
   "metadata": {},
   "outputs": [
    {
     "name": "stdout",
     "output_type": "stream",
     "text": [
      "Error: 440.0 bits per sequence\n"
     ]
    }
   ],
   "source": [
    "# Reset\n",
    "ntm.reset()\n",
    "\n",
    "# Sample data\n",
    "data = dataset[np.random.randint(65536)]\n",
    "inputs, target = data['input'], data['target']\n",
    "\n",
    "# Tensor to store outputs\n",
    "out = torch.zeros(target.size())\n",
    "\n",
    "# Process the inputs through NTM for memorization\n",
    "for i in range(inputs.size()[0]):\n",
    "    # Forward passing all sequences for read\n",
    "    ntm(inputs[i].unsqueeze(0))\n",
    "\n",
    "# Get the outputs from memory without real inputs\n",
    "zero_inputs = torch.zeros(inputs.size()[1]).unsqueeze(0) # dummy inputs\n",
    "for i in range(target.size()[0]):\n",
    "    out[i] = ntm(zero_inputs)\n",
    "\n",
    "# Calculate binary outputs\n",
    "binary_output = out.clone()\n",
    "binary_output = binary_output.detach().apply_(lambda x: 0 if x < 0.5 else 1)\n",
    "\n",
    "# Sequence prediction error is calculted in bits per sequence\n",
    "error = torch.sum(torch.abs(binary_output - target))\n",
    "print(f'Error: {error} bits per sequence')"
   ]
  },
  {
   "cell_type": "markdown",
   "metadata": {},
   "source": [
    "## Visualize"
   ]
  },
  {
   "cell_type": "code",
   "execution_count": 10,
   "metadata": {},
   "outputs": [],
   "source": [
    "# Transforms Compose object\n",
    "visualize = T.Compose([T.ToPILImage(), T.Resize(128, interpolation=0)])"
   ]
  },
  {
   "cell_type": "code",
   "execution_count": 11,
   "metadata": {},
   "outputs": [
    {
     "name": "stdout",
     "output_type": "stream",
     "text": [
      "torch.Size([10, 118]) torch.Size([8, 116])\n"
     ]
    },
    {
     "data": {
      "image/jpeg": "[encoded data removed]",
      "image/png": "[encoded data removed]",
      "text/plain": [
       "<PIL.Image.Image image mode=L size=1856x128>"
      ]
     },
     "execution_count": 11,
     "metadata": {},
     "output_type": "execute_result"
    }
   ],
   "source": [
    "# Visualize Input\n",
    "print(inputs.permute(1, 0).shape, inputs.permute(1, 0)[:-2, 2:].shape)\n",
    "visualize(inputs.permute(1, 0)[:-2, 2:])"
   ]
  },
  {
   "cell_type": "code",
   "execution_count": 12,
   "metadata": {},
   "outputs": [
    {
     "name": "stdout",
     "output_type": "stream",
     "text": [
      "torch.Size([8, 116])\n"
     ]
    },
    {
     "data": {
      "image/jpeg": "[encoded data removed]",
      "image/png": "[encoded data removed]",
      "text/plain": [
       "<PIL.Image.Image image mode=L size=1856x128>"
      ]
     },
     "execution_count": 12,
     "metadata": {},
     "output_type": "execute_result"
    }
   ],
   "source": [
    "# Visualize Predicted Output\n",
    "print(binary_output.permute(1, 0).shape)\n",
    "visualize(binary_output.permute(1, 0))"
   ]
  },
  {
   "cell_type": "code",
   "execution_count": null,
   "metadata": {},
   "outputs": [],
   "source": []
  },
  {
   "cell_type": "markdown",
   "metadata": {},
   "source": [
    "# Sequential mnist"
   ]
  },
  {
   "cell_type": "code",
   "execution_count": 6,
   "metadata": {},
   "outputs": [
    {
     "name": "stdout",
     "output_type": "stream",
     "text": [
      "Number of samples: 10000\n"
     ]
    }
   ],
   "source": [
    "# load test dataset\n",
    "from torch.utils.data import DataLoader\n",
    "import json\n",
    "task_params = json.load(open('checkpoints/ntm+lstm-seq_mnist-100-batch-12000-2024-06-0819:31:05.843406.json'))\n",
    "task_params = task_params['parameters_task']\n",
    "test_dataset = SequentialMNIST(task_params, train=False)\n",
    "print(f\"Number of samples: {len(test_dataset)}\")\n",
    "test_loader = DataLoader(test_dataset, batch_size=1, shuffle=False)"
   ]
  },
  {
   "cell_type": "code",
   "execution_count": 7,
   "metadata": {},
   "outputs": [
    {
     "name": "stdout",
     "output_type": "stream",
     "text": [
      "NTM Using device: cpu\n"
     ]
    }
   ],
   "source": [
    "# ntm for seq mnist\n",
    "ntm = NTM(input_dim=task_params['seq_width'],\n",
    "            output_dim=task_params['output_dim'],\n",
    "            ctrl_dim=task_params['controller_size'],\n",
    "            memory_units=task_params['memory_units'],\n",
    "            memory_unit_size=task_params['memory_unit_size'],\n",
    "            num_heads=task_params['num_heads'], device=\"cpu\")"
   ]
  },
  {
   "cell_type": "code",
   "execution_count": 8,
   "metadata": {},
   "outputs": [
    {
     "data": {
      "text/plain": [
       "<All keys matched successfully>"
      ]
     },
     "execution_count": 8,
     "metadata": {},
     "output_type": "execute_result"
    }
   ],
   "source": [
    "# Load your trained model\n",
    "ntm.load_state_dict(torch.load('checkpoints/ntm+lstm-seq_mnist-100-batch-12000-2024-06-0819:31:05.843406.pth'))"
   ]
  },
  {
   "cell_type": "code",
   "execution_count": 10,
   "metadata": {},
   "outputs": [
    {
     "name": "stderr",
     "output_type": "stream",
     "text": [
      "100%|██████████| 10000/10000 [27:46<00:00,  6.00it/s]"
     ]
    },
    {
     "name": "stdout",
     "output_type": "stream",
     "text": [
      "Accuracy: 60.10%\n"
     ]
    },
    {
     "name": "stderr",
     "output_type": "stream",
     "text": [
      "\n"
     ]
    }
   ],
   "source": [
    "# Initialize variables to track accuracy\n",
    "correct = 0\n",
    "total = 0\n",
    "\n",
    "ntm.eval()\n",
    "from tqdm import tqdm\n",
    "\n",
    "# Disable gradient calculation for evaluation\n",
    "with torch.no_grad():\n",
    "    for step, data in enumerate(tqdm(test_loader)):\n",
    "        # Reset\n",
    "        ntm.reset()\n",
    "        \n",
    "        # Move data and target to the appropriate device (e.g., GPU if available)\n",
    "        inputs, target = data['input'], data['target']\n",
    "        inputs = inputs.transpose(1, 0) # (seq_len, batch, input_dim)\n",
    "        # print(inputs.shape, target.shape)\n",
    "\n",
    "        for i in range(inputs.size()[0]):\n",
    "            # Forward passing all sequences for read\n",
    "            out = ntm(inputs[i])\n",
    "        \n",
    "        # Get the predicted class\n",
    "        pred = out.argmax(dim=1, keepdim=True)\n",
    "        # print(pred, target.view_as(pred))\n",
    "        \n",
    "        # Update the total number of correct predictions\n",
    "        correct += pred.eq(target.view_as(pred)).sum().item()\n",
    "        total += target.size(0)\n",
    "\n",
    "# Calculate the accuracy\n",
    "accuracy = correct / total\n",
    "print(f'Accuracy: {accuracy * 100:.2f}%')"
   ]
  },
  {
   "cell_type": "code",
   "execution_count": null,
   "metadata": {},
   "outputs": [],
   "source": []
  }
 ],
 "metadata": {
  "kernelspec": {
   "display_name": "Python 3",
   "language": "python",
   "name": "python3"
  },
  "language_info": {
   "codemirror_mode": {
    "name": "ipython",
    "version": 3
   },
   "file_extension": ".py",
   "mimetype": "text/x-python",
   "name": "python",
   "nbconvert_exporter": "python",
   "pygments_lexer": "ipython3",
   "version": "3.1.undefined"
  },
  "widgets": {
   "application/vnd.jupyter.widget-state+json": {
    "state": {},
    "version_major": 2,
    "version_minor": 0
   }
  }
 },
 "nbformat": 4,
 "nbformat_minor": 4
}
