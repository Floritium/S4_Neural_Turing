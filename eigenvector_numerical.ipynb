{
 "cells": [
  {
   "cell_type": "markdown",
   "metadata": {},
   "source": [
    "# Find the Eigenvector nummerically"
   ]
  },
  {
   "cell_type": "code",
   "execution_count": null,
   "metadata": {},
   "outputs": [],
   "source": [
    "import numpy as np\n",
    "\n",
    "def power_iteration(S, num_iterations=100, tol=1e-6):\n",
    "    # Choose an initial random vector x\n",
    "    np.random.seed(40)\n",
    "    x = np.random.rand(S.shape[1])\n",
    "    x = x / np.linalg.norm(x)\n",
    "\n",
    "    for _ in range(num_iterations):\n",
    "        # Multiply by matrix S\n",
    "        x_next = np.dot(S, x)\n",
    "\n",
    "        # Normalize to length 1\n",
    "        x_next = x_next / np.linalg.norm(x_next)\n",
    "\n",
    "        # Check for convergence\n",
    "        if np.linalg.norm(x_next - x) < tol:\n",
    "            break\n",
    "\n",
    "        x = x_next\n",
    "\n",
    "    # Normalized eigenvector\n",
    "    e1 = x\n",
    "\n",
    "    # Corresponding eigenvalue as the norm\n",
    "    lambda_1 = np.dot(S @ e1, e1)\n",
    "\n",
    "    return e1, lambda_1\n",
    "\n",
    "# Example usage\n",
    "S = np.array([[2.5, 0.5], [0.5, 1.5]])\n",
    "eigenvector, eigenvalue = power_iteration(S)\n",
    "\n",
    "print(\"Normalized eigenvector e1:\", eigenvector)\n",
    "print(\"Corresponding eigenvalue λ1:\", eigenvalue)"
   ]
  }
 ],
 "metadata": {
  "language_info": {
   "name": "python"
  }
 },
 "nbformat": 4,
 "nbformat_minor": 2
}
