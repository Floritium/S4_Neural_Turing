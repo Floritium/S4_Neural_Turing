{
 "cells": [
  {
   "cell_type": "code",
   "execution_count": null,
   "metadata": {},
   "outputs": [],
   "source": [
    "import matplotlib.pyplot as plt\n",
    "import numpy as np\n",
    "import pandas as pd\n",
    "\n",
    "from glob import glob\n",
    "import json\n",
    "import os\n",
    "import sys\n",
    "sys.path.append(os.path.abspath(os.getcwd() + \"./../\"))\n",
    "print(sys.path)\n",
    "\n",
    "# load test dataset\n",
    "from torch.utils.data import DataLoader\n",
    "import json\n",
    "\n",
    "import json\n",
    "from tqdm import tqdm\n",
    "import numpy as np\n",
    "import os\n",
    "import argparse\n",
    "\n",
    "import torch\n",
    "from torch import nn, optim\n",
    "from torchvision import transforms as T\n",
    "import json\n",
    "\n",
    "from tasks.seq_mnist import SeqMNISTModelTraining, SeqMNISTParams, SequentialMNIST\n",
    "\n",
    "%matplotlib inline"
   ]
  },
  {
   "cell_type": "code",
   "execution_count": null,
   "metadata": {},
   "outputs": [],
   "source": [
    "# load test dataset\n",
    "task_params = {\n",
    "    \"resize_resolution\": 14,\n",
    "}\n",
    "test_dataset = SequentialMNIST(task_params, train=True)\n",
    "\n",
    "# load the model\n",
    "# model = SeqMNISTModelTraining()\n",
    "# model.net.load_state_dict(torch.load('/Users/kerekmen/Desktop/pytorch-ntm-master/checkpoints/seq_mnist-task-1000-batch-930-2024-06-0823:35:16.318871.model'))"
   ]
  },
  {
   "cell_type": "markdown",
   "metadata": {},
   "source": [
    "# Run eval"
   ]
  },
  {
   "cell_type": "code",
   "execution_count": null,
   "metadata": {},
   "outputs": [],
   "source": [
    "print(f\"Number of samples: {len(test_dataset)}\")\n",
    "model.net.eval()\n",
    "test_loader = DataLoader(test_dataset, batch_size=256, shuffle=False)\n",
    "\n",
    "# test the model\n",
    "correct = 0\n",
    "total = 0\n",
    "for i, (X, Y) in enumerate(test_loader):\n",
    "    X = X.permute(1, 0, 2)\n",
    "    Y = Y.squeeze(1)\n",
    "    print(X.size(), Y.size())\n",
    "    \n",
    "    batch_size = X.size(1)\n",
    "    model.net.init_sequence(batch_size)\n",
    "\n",
    "    # Forward pass\n",
    "    outputs = model.net(inputs)\n",
    "    _, predicted = torch.max(outputs.data, 1)\n",
    "    total += targets.size(0)\n",
    "    correct += (predicted == targets).sum().item()\n",
    "print(f\"Accuracy: {100 * correct / total:.2f}%\")"
   ]
  },
  {
   "cell_type": "code",
   "execution_count": null,
   "metadata": {},
   "outputs": [],
   "source": []
  }
 ],
 "metadata": {
  "kernelspec": {
   "display_name": "s4",
   "language": "python",
   "name": "python3"
  },
  "language_info": {
   "codemirror_mode": {
    "name": "ipython",
    "version": 3
   },
   "file_extension": ".py",
   "mimetype": "text/x-python",
   "name": "python",
   "nbconvert_exporter": "python",
   "pygments_lexer": "ipython3",
   "version": "3.1.-1"
  }
 },
 "nbformat": 4,
 "nbformat_minor": 2
}
